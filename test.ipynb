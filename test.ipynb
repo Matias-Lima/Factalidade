{
 "cells": [
  {
   "cell_type": "code",
   "execution_count": 1,
   "metadata": {},
   "outputs": [
    {
     "name": "stdout",
     "output_type": "stream",
     "text": [
      "NextEra Energy (NEE): válido\n",
      "Vestas Wind Systems (VWDRY): válido\n",
      "Siemens Gamesa Renewable Energy (GCTAY): inválido ou não encontrado\n",
      "Plug Power (PLUG): válido\n",
      "Enphase Energy (ENPH): válido\n",
      "Ormat Technologies (ORA): válido\n",
      "First Solar (FSLR): válido\n",
      "Brookfield Renewable Partners (BEP): válido\n",
      "Canadian Solar (CSIQ): válido\n",
      "SunPower (SPWR): válido\n",
      "SolarEdge Technologies (SEDG): válido\n",
      "Renewable Energy Group (REGI): válido\n",
      "Invesco Solar ETF (TAN): válido\n",
      "Global X Renewable Energy Producers ETF (RNRG): válido\n",
      "iShares Global Clean Energy ETF (ICLN): válido\n",
      "First Trust NASDAQ Clean Edge Green Energy Index Fund (QCLN): válido\n",
      "SPDR S&P Kensho Clean Power ETF (CNRG): válido\n",
      "VanEck Vectors Low Carbon Energy ETF (SMOG): válido\n"
     ]
    }
   ],
   "source": [
    "import yfinance as yf\n",
    "\n",
    "energia_limpa = {\n",
    "    'NextEra Energy (NEE)': 'NEE',\n",
    "    'Vestas Wind Systems (VWDRY)': 'VWDRY',\n",
    "    'Plug Power (PLUG)': 'PLUG',\n",
    "    'Enphase Energy (ENPH)': 'ENPH',\n",
    "    'Ormat Technologies (ORA)': 'ORA',\n",
    "    'First Solar (FSLR)': 'FSLR',\n",
    "    'Brookfield Renewable Partners (BEP)': 'BEP',\n",
    "    'Canadian Solar (CSIQ)': 'CSIQ',\n",
    "    'SunPower (SPWR)': 'SPWR',\n",
    "    'SolarEdge Technologies (SEDG)': 'SEDG',\n",
    "    'Renewable Energy Group (REGI)': 'REGI',\n",
    "    'Invesco Solar ETF (TAN)': 'TAN',\n",
    "    'Global X Renewable Energy Producers ETF (RNRG)': 'RNRG',\n",
    "    'iShares Global Clean Energy ETF (ICLN)': 'ICLN',\n",
    "    'First Trust NASDAQ Clean Edge Green Energy Index Fund (QCLN)': 'QCLN',\n",
    "    'SPDR S&P Kensho Clean Power ETF (CNRG)': 'CNRG',\n",
    "    'VanEck Vectors Low Carbon Energy ETF (SMOG)': 'SMOG'\n",
    "}\n",
    "\n",
    "# Validar os tickers no Yahoo Finance\n",
    "for name, ticker in energia_limpa.items():\n",
    "    stock = yf.Ticker(ticker)\n",
    "    try:\n",
    "        # Verifica se o ticker é válido verificando o campo 'longName'\n",
    "        if stock.info['longName']:\n",
    "            print(f'{name}: válido')\n",
    "    except KeyError:\n",
    "        print(f'{name}: inválido ou não encontrado')\n"
   ]
  },
  {
   "cell_type": "code",
   "execution_count": null,
   "metadata": {},
   "outputs": [],
   "source": []
  }
 ],
 "metadata": {
  "kernelspec": {
   "display_name": ".venv",
   "language": "python",
   "name": "python3"
  },
  "language_info": {
   "codemirror_mode": {
    "name": "ipython",
    "version": 3
   },
   "file_extension": ".py",
   "mimetype": "text/x-python",
   "name": "python",
   "nbconvert_exporter": "python",
   "pygments_lexer": "ipython3",
   "version": "3.12.3"
  }
 },
 "nbformat": 4,
 "nbformat_minor": 2
}
